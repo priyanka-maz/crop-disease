{
  "nbformat": 4,
  "nbformat_minor": 0,
  "metadata": {
    "colab": {
      "provenance": [],
      "gpuType": "T4"
    },
    "kernelspec": {
      "name": "python3",
      "display_name": "Python 3"
    },
    "language_info": {
      "name": "python"
    },
    "accelerator": "GPU"
  },
  "cells": [
    {
      "cell_type": "code",
      "execution_count": null,
      "metadata": {
        "id": "ITyjZJRi8uVi"
      },
      "outputs": [],
      "source": [
        "!mkdir -p ~/.kaggle\n",
        "!cp kaggle.json ~/.kaggle/"
      ]
    },
    {
      "cell_type": "code",
      "source": [
        "!kaggle datasets download -d mylab1/singhan-tea"
      ],
      "metadata": {
        "colab": {
          "base_uri": "https://localhost:8080/"
        },
        "id": "KaMvYWmWB6IN",
        "outputId": "3a23fdf9-b3d3-49ed-d2cc-5a067d628827"
      },
      "execution_count": null,
      "outputs": [
        {
          "output_type": "stream",
          "name": "stdout",
          "text": [
            "Warning: Your Kaggle API key is readable by other users on this system! To fix this, you can run 'chmod 600 /root/.kaggle/kaggle.json'\n",
            "Downloading singhan-tea.zip to /content\n",
            " 93% 14.0M/15.1M [00:00<00:00, 48.7MB/s]\n",
            "100% 15.1M/15.1M [00:00<00:00, 52.6MB/s]\n"
          ]
        }
      ]
    },
    {
      "cell_type": "code",
      "source": [
        "import zipfile\n",
        "zip_ref = zipfile.ZipFile('/content/singhan-tea.zip', 'r')\n",
        "zip_ref.extractall('/content')\n",
        "zip_ref.close()"
      ],
      "metadata": {
        "id": "XyI4maJYCBZE"
      },
      "execution_count": null,
      "outputs": []
    },
    {
      "cell_type": "code",
      "source": [
        "import tensorflow as tf\n",
        "import matplotlib.pyplot as plt\n",
        "import pandas as pd\n",
        "import seaborn as sns"
      ],
      "metadata": {
        "id": "c8QAcdvy-fwk"
      },
      "execution_count": null,
      "outputs": []
    },
    {
      "cell_type": "code",
      "source": [
        "import tensorflow as tf\n",
        "print(\"GPU is\", \"available\" if tf.config.list_physical_devices('GPU') else \"NOT AVAILABLE\")"
      ],
      "metadata": {
        "id": "7nBgvFdta4QL",
        "colab": {
          "base_uri": "https://localhost:8080/"
        },
        "outputId": "d1988623-209a-40dd-a39e-a3be889d1332"
      },
      "execution_count": null,
      "outputs": [
        {
          "output_type": "stream",
          "name": "stdout",
          "text": [
            "GPU is available\n"
          ]
        }
      ]
    },
    {
      "cell_type": "code",
      "source": [
        "training_set = tf.keras.utils.image_dataset_from_directory(\n",
        "    '/content/Tea_Leaf_Disease/Training',\n",
        "    labels=\"inferred\",\n",
        "    label_mode=\"categorical\",\n",
        "    class_names=None,\n",
        "    color_mode=\"rgb\",\n",
        "    batch_size=32,\n",
        "    image_size=(128, 128),\n",
        "    shuffle=True,\n",
        "    seed=None,\n",
        "    validation_split=None,\n",
        "    subset=None,\n",
        "    interpolation=\"bilinear\",\n",
        "    follow_links=False,\n",
        "    crop_to_aspect_ratio=False\n",
        ")\n",
        "class_names = training_set.class_names\n",
        "class_indices = {class_name: i for i, class_name in enumerate(class_names)}\n",
        "print(\"Class Indices:\", class_indices)"
      ],
      "metadata": {
        "colab": {
          "base_uri": "https://localhost:8080/"
        },
        "id": "fhfZ_33T-iS0",
        "outputId": "bcaf2144-0328-4b3b-e61b-4265b85731be"
      },
      "execution_count": null,
      "outputs": [
        {
          "output_type": "stream",
          "name": "stdout",
          "text": [
            "Found 2700 files belonging to 3 classes.\n",
            "Class Indices: {'gray_blight': 0, 'healthy': 1, 'red_spot': 2}\n"
          ]
        }
      ]
    },
    {
      "cell_type": "code",
      "source": [
        "validation_set = tf.keras.utils.image_dataset_from_directory(\n",
        "    '/content/Tea_Leaf_Disease/Validation',\n",
        "    labels=\"inferred\",\n",
        "    label_mode=\"categorical\",\n",
        "    class_names=None,\n",
        "    color_mode=\"rgb\",\n",
        "    batch_size=32,\n",
        "    image_size=(128, 128),\n",
        "    shuffle=True,\n",
        "    seed=None,\n",
        "    validation_split=None,\n",
        "    subset=None,\n",
        "    interpolation=\"bilinear\",\n",
        "    follow_links=False,\n",
        "    crop_to_aspect_ratio=False\n",
        ")\n",
        "class_names = validation_set.class_names\n",
        "class_indices = {class_name: i for i, class_name in enumerate(class_names)}\n",
        "print(\"Class Indices:\", class_indices)"
      ],
      "metadata": {
        "colab": {
          "base_uri": "https://localhost:8080/"
        },
        "id": "MVqDqIuz-qGP",
        "outputId": "1b6528ce-5490-4dbf-f923-2a12b60579d4"
      },
      "execution_count": null,
      "outputs": [
        {
          "output_type": "stream",
          "name": "stdout",
          "text": [
            "Found 300 files belonging to 3 classes.\n",
            "Class Indices: {'gray_blight': 0, 'healthy': 1, 'red_spot': 2}\n"
          ]
        }
      ]
    },
    {
      "cell_type": "code",
      "source": [
        "cnn = tf.keras.models.Sequential()"
      ],
      "metadata": {
        "id": "XuaOkJ2yPdPt"
      },
      "execution_count": null,
      "outputs": []
    },
    {
      "cell_type": "code",
      "source": [
        "cnn.add(tf.keras.layers.Conv2D(filters=32, kernel_size=3, padding='same',activation='relu', input_shape=[128, 128, 3]))\n",
        "cnn.add(tf.keras.layers.MaxPool2D(pool_size=2, strides=2))\n",
        "\n",
        "cnn.add(tf.keras.layers.Conv2D(filters=64, kernel_size=3,padding='same', activation='relu'))\n",
        "cnn.add(tf.keras.layers.MaxPool2D(pool_size=2, strides=2))\n",
        "\n",
        "cnn.add(tf.keras.layers.Conv2D(filters=128, kernel_size=3 ,padding='same', activation='relu'))\n",
        "cnn.add(tf.keras.layers.MaxPool2D(pool_size=2, strides=2))\n",
        "\n",
        "cnn.add(tf.keras.layers.Conv2D(filters=256, kernel_size=3,padding='same', activation='relu'))\n",
        "cnn.add(tf.keras.layers.MaxPool2D(pool_size=2, strides=2))\n",
        "\n",
        "\n",
        "# Flatten layer\n",
        "cnn.add(tf.keras.layers.Flatten())\n",
        "\n",
        "# Dropout layer\n",
        "cnn.add(tf.keras.layers.Dropout(0.2))\n",
        "\n",
        "# Fully connected layers\n",
        "cnn.add(tf.keras.layers.Dense(units=512, activation='relu'))\n",
        "\n",
        "cnn.add(tf.keras.layers.Dense(units=3, activation='softmax'))\n",
        "\n",
        "# Compile the model\n",
        "cnn.compile(optimizer='adam', loss='categorical_crossentropy', metrics=['accuracy'])"
      ],
      "metadata": {
        "id": "S3uy6yCTxSWG"
      },
      "execution_count": null,
      "outputs": []
    },
    {
      "cell_type": "code",
      "source": [
        "training_history = cnn.fit(x=training_set,validation_data=validation_set,epochs=20)"
      ],
      "metadata": {
        "colab": {
          "base_uri": "https://localhost:8080/"
        },
        "id": "WU0oRfGm-9ma",
        "outputId": "e37d7121-5376-4fd5-9030-3467ed9ffee4"
      },
      "execution_count": null,
      "outputs": [
        {
          "output_type": "stream",
          "name": "stdout",
          "text": [
            "Epoch 1/20\n",
            "85/85 [==============================] - 5s 31ms/step - loss: 24.0902 - accuracy: 0.6515 - val_loss: 0.4501 - val_accuracy: 0.8433\n",
            "Epoch 2/20\n",
            "85/85 [==============================] - 2s 27ms/step - loss: 0.4378 - accuracy: 0.8348 - val_loss: 0.4670 - val_accuracy: 0.8433\n",
            "Epoch 3/20\n",
            "85/85 [==============================] - 3s 32ms/step - loss: 0.3280 - accuracy: 0.8848 - val_loss: 0.4431 - val_accuracy: 0.8500\n",
            "Epoch 4/20\n",
            "85/85 [==============================] - 2s 26ms/step - loss: 0.2865 - accuracy: 0.8981 - val_loss: 0.2343 - val_accuracy: 0.9133\n",
            "Epoch 5/20\n",
            "85/85 [==============================] - 2s 26ms/step - loss: 0.2502 - accuracy: 0.9067 - val_loss: 0.2289 - val_accuracy: 0.9200\n",
            "Epoch 6/20\n",
            "85/85 [==============================] - 2s 26ms/step - loss: 0.2185 - accuracy: 0.9200 - val_loss: 0.2030 - val_accuracy: 0.9233\n",
            "Epoch 7/20\n",
            "85/85 [==============================] - 3s 30ms/step - loss: 0.2042 - accuracy: 0.9274 - val_loss: 0.2764 - val_accuracy: 0.8967\n",
            "Epoch 8/20\n",
            "85/85 [==============================] - 2s 26ms/step - loss: 0.1984 - accuracy: 0.9281 - val_loss: 0.2299 - val_accuracy: 0.9133\n",
            "Epoch 9/20\n",
            "85/85 [==============================] - 2s 26ms/step - loss: 0.1566 - accuracy: 0.9452 - val_loss: 0.2275 - val_accuracy: 0.9100\n",
            "Epoch 10/20\n",
            "85/85 [==============================] - 2s 25ms/step - loss: 0.1265 - accuracy: 0.9585 - val_loss: 0.1384 - val_accuracy: 0.9633\n",
            "Epoch 11/20\n",
            "85/85 [==============================] - 3s 35ms/step - loss: 0.1310 - accuracy: 0.9559 - val_loss: 0.1438 - val_accuracy: 0.9433\n",
            "Epoch 12/20\n",
            "85/85 [==============================] - 3s 27ms/step - loss: 0.1222 - accuracy: 0.9533 - val_loss: 0.1769 - val_accuracy: 0.9400\n",
            "Epoch 13/20\n",
            "85/85 [==============================] - 2s 26ms/step - loss: 0.1220 - accuracy: 0.9619 - val_loss: 0.2350 - val_accuracy: 0.9033\n",
            "Epoch 14/20\n",
            "85/85 [==============================] - 2s 25ms/step - loss: 0.1322 - accuracy: 0.9567 - val_loss: 0.2392 - val_accuracy: 0.9300\n",
            "Epoch 15/20\n",
            "85/85 [==============================] - 2s 25ms/step - loss: 0.0663 - accuracy: 0.9756 - val_loss: 0.0713 - val_accuracy: 0.9800\n",
            "Epoch 16/20\n",
            "85/85 [==============================] - 3s 38ms/step - loss: 0.0514 - accuracy: 0.9807 - val_loss: 0.1319 - val_accuracy: 0.9667\n",
            "Epoch 17/20\n",
            "85/85 [==============================] - 2s 25ms/step - loss: 0.0308 - accuracy: 0.9881 - val_loss: 0.0420 - val_accuracy: 0.9833\n",
            "Epoch 18/20\n",
            "85/85 [==============================] - 2s 25ms/step - loss: 0.0402 - accuracy: 0.9874 - val_loss: 0.0829 - val_accuracy: 0.9633\n",
            "Epoch 19/20\n",
            "85/85 [==============================] - 2s 25ms/step - loss: 0.0506 - accuracy: 0.9826 - val_loss: 0.1257 - val_accuracy: 0.9533\n",
            "Epoch 20/20\n",
            "85/85 [==============================] - 2s 26ms/step - loss: 0.0394 - accuracy: 0.9859 - val_loss: 0.0442 - val_accuracy: 0.9833\n"
          ]
        }
      ]
    },
    {
      "cell_type": "code",
      "source": [
        "\n",
        "'''\n",
        "import matplotlib.pyplot as plt\n",
        "\n",
        "# Extract the accuracy and loss values from the training history\n",
        "accuracy = training_history.history['accuracy']\n",
        "loss = training_history.history['loss']\n",
        "val_accuracy = training_history.history['val_accuracy']\n",
        "val_loss = training_history.history['val_loss']\n",
        "\n",
        "# Create a figure and axes\n",
        "fig, ax = plt.subplots(1, 2, figsize=(10, 5))\n",
        "\n",
        "# Plot the accuracy and validation accuracy\n",
        "ax[0].plot(accuracy, label='Training Accuracy')\n",
        "ax[0].plot(val_accuracy, label='Validation Accuracy')\n",
        "ax[0].set_xlabel('Epoch')\n",
        "ax[0].set_ylabel('Accuracy')\n",
        "ax[0].legend()\n",
        "\n",
        "# Plot the loss and validation loss\n",
        "ax[1].plot(loss, label='Training Loss')\n",
        "ax[1].plot(val_loss, label='Validation Loss')\n",
        "ax[1].set_xlabel('Epoch')\n",
        "ax[1].set_ylabel('Loss')\n",
        "ax[1].legend()\n",
        "\n",
        "# Display the plots\n",
        "plt.tight_layout()\n",
        "plt.show()'''\n"
      ],
      "metadata": {
        "id": "oC4lzHy_-D8s",
        "colab": {
          "base_uri": "https://localhost:8080/",
          "height": 157
        },
        "outputId": "cf2b5ec5-1cb2-46f3-b96c-0619b914d73b"
      },
      "execution_count": null,
      "outputs": [
        {
          "output_type": "execute_result",
          "data": {
            "text/plain": [
              "\"\\nimport matplotlib.pyplot as plt\\n\\n# Extract the accuracy and loss values from the training history\\naccuracy = training_history.history['accuracy']\\nloss = training_history.history['loss']\\nval_accuracy = training_history.history['val_accuracy']\\nval_loss = training_history.history['val_loss']\\n\\n# Create a figure and axes\\nfig, ax = plt.subplots(1, 2, figsize=(10, 5))\\n\\n# Plot the accuracy and validation accuracy\\nax[0].plot(accuracy, label='Training Accuracy')\\nax[0].plot(val_accuracy, label='Validation Accuracy')\\nax[0].set_xlabel('Epoch')\\nax[0].set_ylabel('Accuracy')\\nax[0].legend()\\n\\n# Plot the loss and validation loss\\nax[1].plot(loss, label='Training Loss')\\nax[1].plot(val_loss, label='Validation Loss')\\nax[1].set_xlabel('Epoch')\\nax[1].set_ylabel('Loss')\\nax[1].legend()\\n\\n# Display the plots\\nplt.tight_layout()\\nplt.show()\""
            ],
            "application/vnd.google.colaboratory.intrinsic+json": {
              "type": "string"
            }
          },
          "metadata": {},
          "execution_count": 16
        }
      ]
    },
    {
      "cell_type": "code",
      "source": [
        "#Validation set Accuracy\n",
        "val_loss, val_acc = cnn.evaluate(validation_set)\n",
        "rounded_accuracy = round(val_acc * 100,)\n",
        "print('Validation accuracy =', rounded_accuracy,'%')"
      ],
      "metadata": {
        "id": "HWhz3n7QZJxF",
        "colab": {
          "base_uri": "https://localhost:8080/"
        },
        "outputId": "23ea91b9-95f7-4bd9-8f1d-0cb238302f72"
      },
      "execution_count": null,
      "outputs": [
        {
          "output_type": "stream",
          "name": "stdout",
          "text": [
            "10/10 [==============================] - 0s 11ms/step - loss: 0.0442 - accuracy: 0.9833\n",
            "Validation accuracy = 98 %\n"
          ]
        }
      ]
    },
    {
      "cell_type": "code",
      "source": [
        "# Save the entire model to a file\n",
        "cnn.save(\"tea_disease_detection_model.h5\")"
      ],
      "metadata": {
        "id": "agAPxmXuZNkC",
        "colab": {
          "base_uri": "https://localhost:8080/"
        },
        "outputId": "ced6af91-4b6b-47e0-a5da-38c829c1848c"
      },
      "execution_count": null,
      "outputs": [
        {
          "output_type": "stream",
          "name": "stderr",
          "text": [
            "/usr/local/lib/python3.10/dist-packages/keras/src/engine/training.py:3103: UserWarning: You are saving your model as an HDF5 file via `model.save()`. This file format is considered legacy. We recommend using instead the native Keras format, e.g. `model.save('my_model.keras')`.\n",
            "  saving_api.save_model(\n"
          ]
        }
      ]
    },
    {
      "cell_type": "code",
      "source": [],
      "metadata": {
        "id": "s-lcNTa0ZP9U"
      },
      "execution_count": null,
      "outputs": []
    },
    {
      "cell_type": "code",
      "source": [],
      "metadata": {
        "id": "akHLwmPVZPy7"
      },
      "execution_count": null,
      "outputs": []
    },
    {
      "cell_type": "code",
      "source": [],
      "metadata": {
        "id": "-pRSTbr_ZPkQ"
      },
      "execution_count": null,
      "outputs": []
    }
  ]
}