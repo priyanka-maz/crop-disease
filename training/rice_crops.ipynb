{
  "nbformat": 4,
  "nbformat_minor": 0,
  "metadata": {
    "colab": {
      "provenance": [],
      "gpuType": "T4"
    },
    "kernelspec": {
      "name": "python3",
      "display_name": "Python 3"
    },
    "language_info": {
      "name": "python"
    },
    "accelerator": "GPU"
  },
  "cells": [
    {
      "cell_type": "code",
      "execution_count": 1,
      "metadata": {
        "id": "ITyjZJRi8uVi"
      },
      "outputs": [],
      "source": [
        "!mkdir -p ~/.kaggle\n",
        "!cp kaggle.json ~/.kaggle/"
      ]
    },
    {
      "cell_type": "code",
      "source": [
        "!kaggle datasets download -d singhan4/singhan-rice-50"
      ],
      "metadata": {
        "colab": {
          "base_uri": "https://localhost:8080/"
        },
        "id": "KaMvYWmWB6IN",
        "outputId": "2df86c2c-c475-4174-f221-d9f0980f8cda"
      },
      "execution_count": 2,
      "outputs": [
        {
          "output_type": "stream",
          "name": "stdout",
          "text": [
            "Warning: Your Kaggle API key is readable by other users on this system! To fix this, you can run 'chmod 600 /root/.kaggle/kaggle.json'\n",
            "Downloading singhan-rice-50.zip to /content\n",
            " 93% 151M/162M [00:00<00:00, 168MB/s]\n",
            "100% 162M/162M [00:01<00:00, 166MB/s]\n"
          ]
        }
      ]
    },
    {
      "cell_type": "code",
      "source": [
        "import zipfile\n",
        "zip_ref = zipfile.ZipFile('/content/singhan-rice-50.zip', 'r')\n",
        "zip_ref.extractall('/content')\n",
        "zip_ref.close()"
      ],
      "metadata": {
        "id": "XyI4maJYCBZE"
      },
      "execution_count": 3,
      "outputs": []
    },
    {
      "cell_type": "code",
      "source": [
        "import tensorflow as tf\n",
        "import matplotlib.pyplot as plt\n",
        "import pandas as pd\n",
        "import seaborn as sns"
      ],
      "metadata": {
        "id": "c8QAcdvy-fwk"
      },
      "execution_count": 4,
      "outputs": []
    },
    {
      "cell_type": "code",
      "source": [
        "import tensorflow as tf\n",
        "print(\"GPU is\", \"available\" if tf.config.list_physical_devices('GPU') else \"NOT AVAILABLE\")"
      ],
      "metadata": {
        "id": "7nBgvFdta4QL",
        "colab": {
          "base_uri": "https://localhost:8080/"
        },
        "outputId": "0ddef4a5-0a44-49d3-d6a0-b581f33995a7"
      },
      "execution_count": 5,
      "outputs": [
        {
          "output_type": "stream",
          "name": "stdout",
          "text": [
            "GPU is available\n"
          ]
        }
      ]
    },
    {
      "cell_type": "code",
      "source": [
        "training_set = tf.keras.utils.image_dataset_from_directory(\n",
        "    '/content/Rice_50/Training',\n",
        "    labels=\"inferred\",\n",
        "    label_mode=\"categorical\",\n",
        "    class_names=None,\n",
        "    color_mode=\"rgb\",\n",
        "    batch_size=32,\n",
        "    image_size=(128, 128),\n",
        "    shuffle=True,\n",
        "    seed=None,\n",
        "    validation_split=None,\n",
        "    subset=None,\n",
        "    interpolation=\"bilinear\",\n",
        "    follow_links=False,\n",
        "    crop_to_aspect_ratio=False\n",
        ")\n",
        "class_names = training_set.class_names\n",
        "class_indices = {class_name: i for i, class_name in enumerate(class_names)}\n",
        "print(\"Class Indices:\", class_indices)"
      ],
      "metadata": {
        "colab": {
          "base_uri": "https://localhost:8080/"
        },
        "id": "fhfZ_33T-iS0",
        "outputId": "23e3ff67-fe2b-41f0-80a1-aae608f04097"
      },
      "execution_count": 6,
      "outputs": [
        {
          "output_type": "stream",
          "name": "stdout",
          "text": [
            "Found 3256 files belonging to 3 classes.\n",
            "Class Indices: {'Bacterialblight': 0, 'Brownspot': 1, 'Healthy': 2}\n"
          ]
        }
      ]
    },
    {
      "cell_type": "code",
      "source": [
        "validation_set = tf.keras.utils.image_dataset_from_directory(\n",
        "    '/content/Rice_50/Validation',\n",
        "    labels=\"inferred\",\n",
        "    label_mode=\"categorical\",\n",
        "    class_names=None,\n",
        "    color_mode=\"rgb\",\n",
        "    batch_size=32,\n",
        "    image_size=(128, 128),\n",
        "    shuffle=True,\n",
        "    seed=None,\n",
        "    validation_split=None,\n",
        "    subset=None,\n",
        "    interpolation=\"bilinear\",\n",
        "    follow_links=False,\n",
        "    crop_to_aspect_ratio=False\n",
        ")\n",
        "class_names = validation_set.class_names\n",
        "class_indices = {class_name: i for i, class_name in enumerate(class_names)}\n",
        "print(\"Class Indices:\", class_indices)"
      ],
      "metadata": {
        "colab": {
          "base_uri": "https://localhost:8080/"
        },
        "id": "MVqDqIuz-qGP",
        "outputId": "4e28c119-25b5-47c6-a683-1ad16132fd4f"
      },
      "execution_count": 7,
      "outputs": [
        {
          "output_type": "stream",
          "name": "stdout",
          "text": [
            "Found 272 files belonging to 3 classes.\n",
            "Class Indices: {'Bacterialblight': 0, 'Brownspot': 1, 'Healthy': 2}\n"
          ]
        }
      ]
    },
    {
      "cell_type": "code",
      "source": [
        "cnn = tf.keras.models.Sequential()"
      ],
      "metadata": {
        "id": "XuaOkJ2yPdPt"
      },
      "execution_count": 8,
      "outputs": []
    },
    {
      "cell_type": "code",
      "source": [
        "cnn.add(tf.keras.layers.Conv2D(filters=32, kernel_size=3, padding='same',activation='relu', input_shape=[128, 128, 3]))\n",
        "cnn.add(tf.keras.layers.MaxPool2D(pool_size=2, strides=2))\n",
        "\n",
        "cnn.add(tf.keras.layers.Conv2D(filters=64, kernel_size=3,padding='same', activation='relu'))\n",
        "cnn.add(tf.keras.layers.MaxPool2D(pool_size=2, strides=2))\n",
        "\n",
        "cnn.add(tf.keras.layers.Conv2D(filters=128, kernel_size=3 ,padding='same', activation='relu'))\n",
        "cnn.add(tf.keras.layers.MaxPool2D(pool_size=2, strides=2))\n",
        "\n",
        "cnn.add(tf.keras.layers.Conv2D(filters=256, kernel_size=3,padding='same', activation='relu'))\n",
        "cnn.add(tf.keras.layers.MaxPool2D(pool_size=2, strides=2))\n",
        "\n",
        "\n",
        "# Flatten layer\n",
        "cnn.add(tf.keras.layers.Flatten())\n",
        "\n",
        "# Dropout layer\n",
        "cnn.add(tf.keras.layers.Dropout(0.2))\n",
        "\n",
        "# Fully connected layers\n",
        "cnn.add(tf.keras.layers.Dense(units=512, activation='relu'))\n",
        "\n",
        "cnn.add(tf.keras.layers.Dense(units=3, activation='softmax'))\n",
        "\n",
        "# Compile the model\n",
        "cnn.compile(optimizer='adam', loss='categorical_crossentropy', metrics=['accuracy'])"
      ],
      "metadata": {
        "id": "S3uy6yCTxSWG"
      },
      "execution_count": 9,
      "outputs": []
    },
    {
      "cell_type": "code",
      "source": [
        "training_history = cnn.fit(x=training_set,validation_data=validation_set,epochs=20)"
      ],
      "metadata": {
        "colab": {
          "base_uri": "https://localhost:8080/"
        },
        "id": "WU0oRfGm-9ma",
        "outputId": "110e7e3d-8357-431a-92e5-7563d8ff7e2f"
      },
      "execution_count": 10,
      "outputs": [
        {
          "output_type": "stream",
          "name": "stdout",
          "text": [
            "Epoch 1/20\n",
            "102/102 [==============================] - 15s 67ms/step - loss: 9.5984 - accuracy: 0.8028 - val_loss: 0.1205 - val_accuracy: 0.9706\n",
            "Epoch 2/20\n",
            "102/102 [==============================] - 7s 65ms/step - loss: 0.2056 - accuracy: 0.9189 - val_loss: 0.0995 - val_accuracy: 0.9706\n",
            "Epoch 3/20\n",
            "102/102 [==============================] - 7s 66ms/step - loss: 0.1063 - accuracy: 0.9607 - val_loss: 0.0473 - val_accuracy: 0.9816\n",
            "Epoch 4/20\n",
            "102/102 [==============================] - 6s 55ms/step - loss: 0.0715 - accuracy: 0.9757 - val_loss: 0.0272 - val_accuracy: 0.9890\n",
            "Epoch 5/20\n",
            "102/102 [==============================] - 7s 67ms/step - loss: 0.0314 - accuracy: 0.9896 - val_loss: 0.0696 - val_accuracy: 0.9706\n",
            "Epoch 6/20\n",
            "102/102 [==============================] - 6s 58ms/step - loss: 0.0751 - accuracy: 0.9751 - val_loss: 0.0133 - val_accuracy: 1.0000\n",
            "Epoch 7/20\n",
            "102/102 [==============================] - 7s 66ms/step - loss: 0.0325 - accuracy: 0.9883 - val_loss: 0.0097 - val_accuracy: 0.9963\n",
            "Epoch 8/20\n",
            "102/102 [==============================] - 6s 55ms/step - loss: 0.0458 - accuracy: 0.9846 - val_loss: 0.0532 - val_accuracy: 0.9779\n",
            "Epoch 9/20\n",
            "102/102 [==============================] - 6s 56ms/step - loss: 0.0678 - accuracy: 0.9791 - val_loss: 0.0392 - val_accuracy: 0.9816\n",
            "Epoch 10/20\n",
            "102/102 [==============================] - 7s 65ms/step - loss: 0.0148 - accuracy: 0.9951 - val_loss: 0.0025 - val_accuracy: 1.0000\n",
            "Epoch 11/20\n",
            "102/102 [==============================] - 6s 56ms/step - loss: 0.0230 - accuracy: 0.9911 - val_loss: 0.0030 - val_accuracy: 1.0000\n",
            "Epoch 12/20\n",
            "102/102 [==============================] - 6s 57ms/step - loss: 0.0021 - accuracy: 0.9997 - val_loss: 1.5806e-04 - val_accuracy: 1.0000\n",
            "Epoch 13/20\n",
            "102/102 [==============================] - 8s 71ms/step - loss: 2.0605e-04 - accuracy: 1.0000 - val_loss: 1.4879e-04 - val_accuracy: 1.0000\n",
            "Epoch 14/20\n",
            "102/102 [==============================] - 6s 57ms/step - loss: 2.7239e-04 - accuracy: 1.0000 - val_loss: 9.7377e-05 - val_accuracy: 1.0000\n",
            "Epoch 15/20\n",
            "102/102 [==============================] - 7s 65ms/step - loss: 0.0057 - accuracy: 0.9982 - val_loss: 0.0315 - val_accuracy: 0.9816\n",
            "Epoch 16/20\n",
            "102/102 [==============================] - 6s 55ms/step - loss: 0.0410 - accuracy: 0.9886 - val_loss: 0.0168 - val_accuracy: 0.9963\n",
            "Epoch 17/20\n",
            "102/102 [==============================] - 7s 65ms/step - loss: 0.0396 - accuracy: 0.9896 - val_loss: 0.0265 - val_accuracy: 0.9926\n",
            "Epoch 18/20\n",
            "102/102 [==============================] - 6s 60ms/step - loss: 0.1166 - accuracy: 0.9705 - val_loss: 0.2201 - val_accuracy: 0.9228\n",
            "Epoch 19/20\n",
            "102/102 [==============================] - 7s 58ms/step - loss: 0.0682 - accuracy: 0.9791 - val_loss: 0.0056 - val_accuracy: 1.0000\n",
            "Epoch 20/20\n",
            "102/102 [==============================] - 7s 64ms/step - loss: 0.0101 - accuracy: 0.9982 - val_loss: 2.4946e-04 - val_accuracy: 1.0000\n"
          ]
        }
      ]
    },
    {
      "cell_type": "code",
      "source": [
        "\n",
        "'''\n",
        "import matplotlib.pyplot as plt\n",
        "\n",
        "# Extract the accuracy and loss values from the training history\n",
        "accuracy = training_history.history['accuracy']\n",
        "loss = training_history.history['loss']\n",
        "val_accuracy = training_history.history['val_accuracy']\n",
        "val_loss = training_history.history['val_loss']\n",
        "\n",
        "# Create a figure and axes\n",
        "fig, ax = plt.subplots(1, 2, figsize=(10, 5))\n",
        "\n",
        "# Plot the accuracy and validation accuracy\n",
        "ax[0].plot(accuracy, label='Training Accuracy')\n",
        "ax[0].plot(val_accuracy, label='Validation Accuracy')\n",
        "ax[0].set_xlabel('Epoch')\n",
        "ax[0].set_ylabel('Accuracy')\n",
        "ax[0].legend()\n",
        "\n",
        "# Plot the loss and validation loss\n",
        "ax[1].plot(loss, label='Training Loss')\n",
        "ax[1].plot(val_loss, label='Validation Loss')\n",
        "ax[1].set_xlabel('Epoch')\n",
        "ax[1].set_ylabel('Loss')\n",
        "ax[1].legend()\n",
        "\n",
        "# Display the plots\n",
        "plt.tight_layout()\n",
        "plt.show()'''\n"
      ],
      "metadata": {
        "id": "oC4lzHy_-D8s",
        "colab": {
          "base_uri": "https://localhost:8080/",
          "height": 174
        },
        "outputId": "4387fe46-3957-4fee-a9da-9a362ea1a784"
      },
      "execution_count": 11,
      "outputs": [
        {
          "output_type": "execute_result",
          "data": {
            "text/plain": [
              "\"\\nimport matplotlib.pyplot as plt\\n\\n# Extract the accuracy and loss values from the training history\\naccuracy = training_history.history['accuracy']\\nloss = training_history.history['loss']\\nval_accuracy = training_history.history['val_accuracy']\\nval_loss = training_history.history['val_loss']\\n\\n# Create a figure and axes\\nfig, ax = plt.subplots(1, 2, figsize=(10, 5))\\n\\n# Plot the accuracy and validation accuracy\\nax[0].plot(accuracy, label='Training Accuracy')\\nax[0].plot(val_accuracy, label='Validation Accuracy')\\nax[0].set_xlabel('Epoch')\\nax[0].set_ylabel('Accuracy')\\nax[0].legend()\\n\\n# Plot the loss and validation loss\\nax[1].plot(loss, label='Training Loss')\\nax[1].plot(val_loss, label='Validation Loss')\\nax[1].set_xlabel('Epoch')\\nax[1].set_ylabel('Loss')\\nax[1].legend()\\n\\n# Display the plots\\nplt.tight_layout()\\nplt.show()\""
            ],
            "application/vnd.google.colaboratory.intrinsic+json": {
              "type": "string"
            }
          },
          "metadata": {},
          "execution_count": 11
        }
      ]
    },
    {
      "cell_type": "code",
      "source": [
        "#Validation set Accuracy\n",
        "val_loss, val_acc = cnn.evaluate(validation_set)\n",
        "rounded_accuracy = round(val_acc * 100,)\n",
        "print('Validation accuracy =', rounded_accuracy,'%')"
      ],
      "metadata": {
        "id": "HWhz3n7QZJxF",
        "colab": {
          "base_uri": "https://localhost:8080/"
        },
        "outputId": "04234494-1b13-4177-f4c3-67729a481ed1"
      },
      "execution_count": 14,
      "outputs": [
        {
          "output_type": "stream",
          "name": "stdout",
          "text": [
            "9/9 [==============================] - 1s 10ms/step - loss: 2.4946e-04 - accuracy: 1.0000\n",
            "Validation accuracy = 100 %\n"
          ]
        }
      ]
    },
    {
      "cell_type": "code",
      "source": [
        "# Save the entire model to a file\n",
        "cnn.save(\"rice3_disease_detection_model.h5\")"
      ],
      "metadata": {
        "id": "agAPxmXuZNkC"
      },
      "execution_count": 15,
      "outputs": []
    },
    {
      "cell_type": "code",
      "source": [],
      "metadata": {
        "id": "s-lcNTa0ZP9U"
      },
      "execution_count": null,
      "outputs": []
    },
    {
      "cell_type": "code",
      "source": [],
      "metadata": {
        "id": "akHLwmPVZPy7"
      },
      "execution_count": null,
      "outputs": []
    },
    {
      "cell_type": "code",
      "source": [],
      "metadata": {
        "id": "-pRSTbr_ZPkQ"
      },
      "execution_count": null,
      "outputs": []
    }
  ]
}